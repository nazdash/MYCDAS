{
 "cells": [
  {
   "cell_type": "code",
   "execution_count": 8,
   "metadata": {
    "collapsed": false
   },
   "outputs": [
    {
     "data": {
      "text/plain": [
       "[0, 1, 2, 3, 4, 5, 6, 7, 8, 9]"
      ]
     },
     "execution_count": 8,
     "metadata": {},
     "output_type": "execute_result"
    }
   ],
   "source": [
    "range(0,10)"
   ]
  },
  {
   "cell_type": "code",
   "execution_count": 11,
   "metadata": {
    "collapsed": false
   },
   "outputs": [],
   "source": [
    "x = range(10,20)"
   ]
  },
  {
   "cell_type": "code",
   "execution_count": 12,
   "metadata": {
    "collapsed": false
   },
   "outputs": [
    {
     "data": {
      "text/plain": [
       "[11, 12]"
      ]
     },
     "execution_count": 12,
     "metadata": {},
     "output_type": "execute_result"
    }
   ],
   "source": [
    "x[1:3]"
   ]
  },
  {
   "cell_type": "code",
   "execution_count": 23,
   "metadata": {
    "collapsed": false
   },
   "outputs": [
    {
     "name": "stdout",
     "output_type": "stream",
     "text": [
      "[-9, -8, -7, -6, -5, -4, -3, -2, -1, 0]\n"
     ]
    }
   ],
   "source": [
    "#def sq(x):\n",
    " #   return x ** 2\n",
    "\n",
    "print map(lambda x: x^2, range(10))"
   ]
  },
  {
   "cell_type": "code",
   "execution_count": 24,
   "metadata": {
    "collapsed": true
   },
   "outputs": [],
   "source": [
    "?set"
   ]
  },
  {
   "cell_type": "code",
   "execution_count": 25,
   "metadata": {
    "collapsed": true
   },
   "outputs": [],
   "source": [
    "?int"
   ]
  },
  {
   "cell_type": "code",
   "execution_count": 33,
   "metadata": {
    "collapsed": false
   },
   "outputs": [
    {
     "data": {
      "text/plain": [
       "6"
      ]
     },
     "execution_count": 33,
     "metadata": {},
     "output_type": "execute_result"
    }
   ],
   "source": [
    "int('0b110', base=0)"
   ]
  },
  {
   "cell_type": "code",
   "execution_count": 40,
   "metadata": {
    "collapsed": true
   },
   "outputs": [],
   "source": [
    "x = True"
   ]
  },
  {
   "cell_type": "code",
   "execution_count": 41,
   "metadata": {
    "collapsed": true
   },
   "outputs": [],
   "source": [
    "x = 5"
   ]
  },
  {
   "cell_type": "code",
   "execution_count": 42,
   "metadata": {
    "collapsed": false
   },
   "outputs": [
    {
     "name": "stdout",
     "output_type": "stream",
     "text": [
      "5\n"
     ]
    }
   ],
   "source": [
    "print x"
   ]
  },
  {
   "cell_type": "code",
   "execution_count": 64,
   "metadata": {
    "collapsed": false
   },
   "outputs": [
    {
     "name": "stdout",
     "output_type": "stream",
     "text": [
      "True\n",
      "False\n",
      "False\n"
     ]
    }
   ],
   "source": [
    "x = [1, 2, 3]\n",
    "y = x\n",
    "id(x)\n",
    "print(x is y)\n",
    "print(x is [1, 2, 3])\n",
    "print(y is [1, 2, 3])"
   ]
  },
  {
   "cell_type": "code",
   "execution_count": 48,
   "metadata": {
    "collapsed": true
   },
   "outputs": [],
   "source": [
    "x = tuple()"
   ]
  },
  {
   "cell_type": "code",
   "execution_count": 49,
   "metadata": {
    "collapsed": false
   },
   "outputs": [
    {
     "name": "stdout",
     "output_type": "stream",
     "text": [
      "()\n"
     ]
    }
   ],
   "source": [
    "print x"
   ]
  },
  {
   "cell_type": "markdown",
   "metadata": {},
   "source": [
    "# data upload"
   ]
  },
  {
   "cell_type": "code",
   "execution_count": 56,
   "metadata": {
    "collapsed": false
   },
   "outputs": [],
   "source": [
    "#file_obj = open('/Users/nazirdashtiev/iPythonProjects/test.rtf','r')"
   ]
  },
  {
   "cell_type": "code",
   "execution_count": 15,
   "metadata": {
    "collapsed": false
   },
   "outputs": [
    {
     "name": "stdout",
     "output_type": "stream",
     "text": [
      "1. Hello there!\n",
      "2. Привет человек!\n",
      "3.\n",
      "4. Какой-то текст.\n",
      "5. \n",
      "6. Another text in english.\n",
      "7. And some numbers - 0, 1, 2, 3.\n",
      "\n"
     ]
    }
   ],
   "source": [
    "file_obj = open('test2.txt','r')\n",
    "print file_obj.read()"
   ]
  },
  {
   "cell_type": "code",
   "execution_count": 16,
   "metadata": {
    "collapsed": false
   },
   "outputs": [
    {
     "name": "stdout",
     "output_type": "stream",
     "text": [
      "1. Hello there!\n",
      "\n"
     ]
    }
   ],
   "source": [
    "file_obj = open('test2.txt','r')\n",
    "print file_obj.readline()"
   ]
  },
  {
   "cell_type": "code",
   "execution_count": 17,
   "metadata": {
    "collapsed": false
   },
   "outputs": [
    {
     "name": "stdout",
     "output_type": "stream",
     "text": [
      "1. Hello there!\n",
      "2. Привет человек!\n",
      "3.\n",
      "4. Какой-то текст.\n",
      "5.\n",
      "6. Another text in english.\n",
      "7. And some numbers - 0, 1, 2, 3.\n"
     ]
    }
   ],
   "source": [
    "file_obj = open('test2.txt','r')\n",
    "for line in file_obj: print line.strip()"
   ]
  },
  {
   "cell_type": "code",
   "execution_count": 19,
   "metadata": {
    "collapsed": false
   },
   "outputs": [
    {
     "name": "stdout",
     "output_type": "stream",
     "text": [
      "1. Hello there!\n",
      "2. Привет человек!\n",
      "3.\n",
      "4. Какой-то текст.\n",
      "5.\n",
      "6. Another text in english.\n",
      "7. And some numbers - 0, 1, 2, 3.\n"
     ]
    }
   ],
   "source": [
    "file_obj = open('test2.txt','r')\n",
    "data_list = list(file_obj)\n",
    "for line in data_list: print line.strip()"
   ]
  },
  {
   "cell_type": "code",
   "execution_count": 20,
   "metadata": {
    "collapsed": false
   },
   "outputs": [
    {
     "name": "stdout",
     "output_type": "stream",
     "text": [
      "3.\n",
      "4. Какой-то текст.\n",
      "5. \n",
      "\n"
     ]
    }
   ],
   "source": [
    "f = open('test2.txt','r')\n",
    "print \"\".join(f.readlines()[2:5])"
   ]
  },
  {
   "cell_type": "code",
   "execution_count": 21,
   "metadata": {
    "collapsed": false
   },
   "outputs": [
    {
     "name": "stdout",
     "output_type": "stream",
     "text": [
      "3.\n",
      "4. Какой-то текст.\n",
      "5. \n"
     ]
    }
   ],
   "source": [
    "f = open('test2.txt','r')\n",
    "i = 0\n",
    "for line in f:\n",
    "    if i>=2 and i<5:\n",
    "        print line,\n",
    "    i += 1"
   ]
  },
  {
   "cell_type": "code",
   "execution_count": 23,
   "metadata": {
    "collapsed": false
   },
   "outputs": [
    {
     "ename": "ValueError",
     "evalue": "I/O operation on closed file",
     "output_type": "error",
     "traceback": [
      "\u001b[0;31m---------------------------------------------------------------------------\u001b[0m",
      "\u001b[0;31mValueError\u001b[0m                                Traceback (most recent call last)",
      "\u001b[0;32m<ipython-input-23-b9a73cf0c9f8>\u001b[0m in \u001b[0;36m<module>\u001b[0;34m()\u001b[0m\n\u001b[1;32m      1\u001b[0m \u001b[0mfile_obj\u001b[0m \u001b[0;34m=\u001b[0m \u001b[0mopen\u001b[0m\u001b[0;34m(\u001b[0m\u001b[0;34m'test2.txt'\u001b[0m\u001b[0;34m,\u001b[0m\u001b[0;34m'r'\u001b[0m\u001b[0;34m)\u001b[0m\u001b[0;34m\u001b[0m\u001b[0m\n\u001b[1;32m      2\u001b[0m \u001b[0mfile_obj\u001b[0m\u001b[0;34m.\u001b[0m\u001b[0mclose\u001b[0m\u001b[0;34m(\u001b[0m\u001b[0;34m)\u001b[0m\u001b[0;34m\u001b[0m\u001b[0m\n\u001b[0;32m----> 3\u001b[0;31m \u001b[0mfile_obj\u001b[0m\u001b[0;34m.\u001b[0m\u001b[0mread\u001b[0m\u001b[0;34m(\u001b[0m\u001b[0;34m)\u001b[0m\u001b[0;34m\u001b[0m\u001b[0m\n\u001b[0m",
      "\u001b[0;31mValueError\u001b[0m: I/O operation on closed file"
     ]
    }
   ],
   "source": [
    "file_obj = open('test2.txt','r')\n",
    "file_obj.close()\n",
    "file_obj.read()"
   ]
  },
  {
   "cell_type": "code",
   "execution_count": 24,
   "metadata": {
    "collapsed": false
   },
   "outputs": [
    {
     "name": "stdout",
     "output_type": "stream",
     "text": [
      "{\\rtf1\\ansi\\ansicpg1252\\cocoartf1404\\cocoasubrtf470\n",
      "{\\fonttbl\\f0\\fswiss\\fcharset0 Helvetica;}\n",
      "{\\colortbl;\\red255\\green255\\blue255;}\n",
      "\\margl1440\\margr1440\\vieww10800\\viewh8400\\viewkind0\n",
      "\\pard\\tx720\\tx1440\\tx2160\\tx2880\\tx3600\\tx4320\\tx5040\\tx5760\\tx6480\\tx7200\\tx7920\\tx8640\\pardirnatural\\partightenfactor0\n",
      "\n",
      "\\f0\\fs24 \\cf0 Hello sir!\\\n",
      "\\uc0\\u1055 \\u1088 \\u1080 \\u1074 \\u1077 \\u1090 , \\u1090 \\u1086 \\u1074 \\u1072 \\u1088 \\u1080 \\u1065 !}\n"
     ]
    }
   ],
   "source": [
    "file_obj = open('test.rtf','r')\n",
    "print file_obj.read()"
   ]
  },
  {
   "cell_type": "markdown",
   "metadata": {},
   "source": [
    "# Codecs"
   ]
  },
  {
   "cell_type": "code",
   "execution_count": 26,
   "metadata": {
    "collapsed": true
   },
   "outputs": [],
   "source": [
    "import codecs"
   ]
  },
  {
   "cell_type": "code",
   "execution_count": 34,
   "metadata": {
    "collapsed": false
   },
   "outputs": [
    {
     "ename": "TypeError",
     "evalue": "open() got an unexpected keyword argument 'coding'",
     "output_type": "error",
     "traceback": [
      "\u001b[0;31m---------------------------------------------------------------------------\u001b[0m",
      "\u001b[0;31mTypeError\u001b[0m                                 Traceback (most recent call last)",
      "\u001b[0;32m<ipython-input-34-0e97ba197548>\u001b[0m in \u001b[0;36m<module>\u001b[0;34m()\u001b[0m\n\u001b[0;32m----> 1\u001b[0;31m \u001b[0mfile_obj\u001b[0m \u001b[0;34m=\u001b[0m \u001b[0mcodecs\u001b[0m\u001b[0;34m.\u001b[0m\u001b[0mopen\u001b[0m\u001b[0;34m(\u001b[0m\u001b[0;34m'test.rtf'\u001b[0m\u001b[0;34m,\u001b[0m\u001b[0;34m'r'\u001b[0m\u001b[0;34m,\u001b[0m \u001b[0mcoding\u001b[0m\u001b[0;34m=\u001b[0m\u001b[0;34m'utf-8'\u001b[0m\u001b[0;34m)\u001b[0m\u001b[0;34m\u001b[0m\u001b[0m\n\u001b[0m\u001b[1;32m      2\u001b[0m \u001b[0;32mprint\u001b[0m \u001b[0mfile_obj\u001b[0m\u001b[0;34m.\u001b[0m\u001b[0mread\u001b[0m\u001b[0;34m(\u001b[0m\u001b[0;34m)\u001b[0m\u001b[0;34m\u001b[0m\u001b[0m\n",
      "\u001b[0;31mTypeError\u001b[0m: open() got an unexpected keyword argument 'coding'"
     ]
    }
   ],
   "source": [
    "file_obj = codecs.open('test.rtf','r', coding='utf-8')\n",
    "print file_obj.read()"
   ]
  },
  {
   "cell_type": "code",
   "execution_count": 35,
   "metadata": {
    "collapsed": true
   },
   "outputs": [],
   "source": [
    "file_obj = open('write_new_file.txt', 'w')\n",
    "string = 'какой-то текст\\n'\n",
    "file_obj.write(string)\n",
    "file_obj.close()"
   ]
  },
  {
   "cell_type": "code",
   "execution_count": 36,
   "metadata": {
    "collapsed": false
   },
   "outputs": [
    {
     "name": "stdout",
     "output_type": "stream",
     "text": [
      "какой-то текст\r\n"
     ]
    }
   ],
   "source": [
    "!cat write_new_file.txt"
   ]
  },
  {
   "cell_type": "code",
   "execution_count": 7,
   "metadata": {
    "collapsed": false
   },
   "outputs": [
    {
     "name": "stdout",
     "output_type": "stream",
     "text": [
      "(1, 'stop', True)\n"
     ]
    },
    {
     "data": {
      "text/plain": [
       "tuple"
      ]
     },
     "execution_count": 7,
     "metadata": {},
     "output_type": "execute_result"
    }
   ],
   "source": [
    "list = (1, 'stop', True)\n",
    "print list\n",
    "type(list)"
   ]
  },
  {
   "cell_type": "code",
   "execution_count": 8,
   "metadata": {
    "collapsed": true
   },
   "outputs": [],
   "source": [
    "tel = {'jack': 4098, 'sape': 4139}"
   ]
  },
  {
   "cell_type": "code",
   "execution_count": 9,
   "metadata": {
    "collapsed": false
   },
   "outputs": [
    {
     "name": "stdout",
     "output_type": "stream",
     "text": [
      "{'sape': 4139, 'jack': 4098}\n"
     ]
    }
   ],
   "source": [
    "print tel"
   ]
  },
  {
   "cell_type": "code",
   "execution_count": 12,
   "metadata": {
    "collapsed": true
   },
   "outputs": [],
   "source": [
    "tel = {'jack': 4098, 'sape': 4139, 1: 'sad', 'gordano': True}"
   ]
  },
  {
   "cell_type": "code",
   "execution_count": 13,
   "metadata": {
    "collapsed": false
   },
   "outputs": [
    {
     "name": "stdout",
     "output_type": "stream",
     "text": [
      "{'sape': 4139, 'gordano': True, 'jack': 4098, 1: 'sad'}\n"
     ]
    }
   ],
   "source": [
    "print tel"
   ]
  },
  {
   "cell_type": "code",
   "execution_count": 22,
   "metadata": {
    "collapsed": false
   },
   "outputs": [
    {
     "name": "stdout",
     "output_type": "stream",
     "text": [
      "[0, 1, 2, 3, 4, 5, 6, 7, 8, 9]\n"
     ]
    }
   ],
   "source": [
    "x = range(10)\n",
    "print x"
   ]
  },
  {
   "cell_type": "code",
   "execution_count": 46,
   "metadata": {
    "collapsed": false
   },
   "outputs": [
    {
     "name": "stdout",
     "output_type": "stream",
     "text": [
      "xrange(0, 14, 7)\n"
     ]
    }
   ],
   "source": [
    "x = xrange(0, 10, 7)\n",
    "print x"
   ]
  },
  {
   "cell_type": "code",
   "execution_count": 38,
   "metadata": {
    "collapsed": true
   },
   "outputs": [],
   "source": [
    "?range"
   ]
  },
  {
   "cell_type": "code",
   "execution_count": 59,
   "metadata": {
    "collapsed": false
   },
   "outputs": [
    {
     "data": {
      "text/plain": [
       "9"
      ]
     },
     "execution_count": 59,
     "metadata": {},
     "output_type": "execute_result"
    }
   ],
   "source": [
    "f = lambda x, y: x ** 2\n",
    "f(3, 4534)"
   ]
  },
  {
   "cell_type": "code",
   "execution_count": 65,
   "metadata": {
    "collapsed": false
   },
   "outputs": [
    {
     "name": "stdout",
     "output_type": "stream",
     "text": [
      "9\n"
     ]
    }
   ],
   "source": [
    "def f(x):\n",
    "    return x**2\n",
    "    \n",
    "f(3)"
   ]
  },
  {
   "cell_type": "code",
   "execution_count": 66,
   "metadata": {
    "collapsed": true
   },
   "outputs": [],
   "source": [
    "import pandas as pd"
   ]
  },
  {
   "cell_type": "code",
   "execution_count": 68,
   "metadata": {
    "collapsed": false
   },
   "outputs": [],
   "source": [
    "frame = pd.DataFrame({'numbers': range(10), 'chars': ['a']*10})"
   ]
  },
  {
   "cell_type": "code",
   "execution_count": 69,
   "metadata": {
    "collapsed": false
   },
   "outputs": [
    {
     "data": {
      "text/html": [
       "<div>\n",
       "<table border=\"1\" class=\"dataframe\">\n",
       "  <thead>\n",
       "    <tr style=\"text-align: right;\">\n",
       "      <th></th>\n",
       "      <th>chars</th>\n",
       "      <th>numbers</th>\n",
       "    </tr>\n",
       "  </thead>\n",
       "  <tbody>\n",
       "    <tr>\n",
       "      <th>0</th>\n",
       "      <td>a</td>\n",
       "      <td>0</td>\n",
       "    </tr>\n",
       "    <tr>\n",
       "      <th>1</th>\n",
       "      <td>a</td>\n",
       "      <td>1</td>\n",
       "    </tr>\n",
       "    <tr>\n",
       "      <th>2</th>\n",
       "      <td>a</td>\n",
       "      <td>2</td>\n",
       "    </tr>\n",
       "    <tr>\n",
       "      <th>3</th>\n",
       "      <td>a</td>\n",
       "      <td>3</td>\n",
       "    </tr>\n",
       "    <tr>\n",
       "      <th>4</th>\n",
       "      <td>a</td>\n",
       "      <td>4</td>\n",
       "    </tr>\n",
       "    <tr>\n",
       "      <th>5</th>\n",
       "      <td>a</td>\n",
       "      <td>5</td>\n",
       "    </tr>\n",
       "    <tr>\n",
       "      <th>6</th>\n",
       "      <td>a</td>\n",
       "      <td>6</td>\n",
       "    </tr>\n",
       "    <tr>\n",
       "      <th>7</th>\n",
       "      <td>a</td>\n",
       "      <td>7</td>\n",
       "    </tr>\n",
       "    <tr>\n",
       "      <th>8</th>\n",
       "      <td>a</td>\n",
       "      <td>8</td>\n",
       "    </tr>\n",
       "    <tr>\n",
       "      <th>9</th>\n",
       "      <td>a</td>\n",
       "      <td>9</td>\n",
       "    </tr>\n",
       "  </tbody>\n",
       "</table>\n",
       "</div>"
      ],
      "text/plain": [
       "  chars  numbers\n",
       "0     a        0\n",
       "1     a        1\n",
       "2     a        2\n",
       "3     a        3\n",
       "4     a        4\n",
       "5     a        5\n",
       "6     a        6\n",
       "7     a        7\n",
       "8     a        8\n",
       "9     a        9"
      ]
     },
     "execution_count": 69,
     "metadata": {},
     "output_type": "execute_result"
    }
   ],
   "source": [
    "frame"
   ]
  },
  {
   "cell_type": "code",
   "execution_count": 73,
   "metadata": {
    "collapsed": false
   },
   "outputs": [],
   "source": [
    "frame = pd.read_csv('/Users/nazirdashtiev/Downloads/bRhsYYCCg4.csv', header=0, sep=',')"
   ]
  },
  {
   "cell_type": "code",
   "execution_count": 74,
   "metadata": {
    "collapsed": false
   },
   "outputs": [
    {
     "data": {
      "text/html": [
       "<div>\n",
       "<table border=\"1\" class=\"dataframe\">\n",
       "  <thead>\n",
       "    <tr style=\"text-align: right;\">\n",
       "      <th></th>\n",
       "      <th>driver_uuid</th>\n",
       "      <th>city_id</th>\n",
       "      <th>supply_hours</th>\n",
       "      <th>avg_daily_shifts</th>\n",
       "      <th>median_daily_shifts</th>\n",
       "      <th>weekly_shifts</th>\n",
       "      <th>trips</th>\n",
       "      <th>gross_bookings</th>\n",
       "      <th>commission</th>\n",
       "      <th>incentives</th>\n",
       "      <th>earnings</th>\n",
       "    </tr>\n",
       "  </thead>\n",
       "  <tbody>\n",
       "    <tr>\n",
       "      <th>0</th>\n",
       "      <td>7a8b702c-b1e1-4c60-8501-615f8d1b5f63</td>\n",
       "      <td>145</td>\n",
       "      <td>63.270000</td>\n",
       "      <td>4.430000</td>\n",
       "      <td>6.000000</td>\n",
       "      <td>31.000000</td>\n",
       "      <td>72.000000</td>\n",
       "      <td>29005.620000</td>\n",
       "      <td>5860.520000</td>\n",
       "      <td>2252.070000</td>\n",
       "      <td>25397.170000</td>\n",
       "    </tr>\n",
       "    <tr>\n",
       "      <th>1</th>\n",
       "      <td>0c56d0d1-35bb-41f1-8c25-17244ecbd804</td>\n",
       "      <td>145</td>\n",
       "      <td>9.790000</td>\n",
       "      <td>2.500000</td>\n",
       "      <td>2.500000</td>\n",
       "      <td>5.000000</td>\n",
       "      <td>17.000000</td>\n",
       "      <td>4915.560000</td>\n",
       "      <td>871.000000</td>\n",
       "      <td>NaN</td>\n",
       "      <td>4044.560000</td>\n",
       "    </tr>\n",
       "    <tr>\n",
       "      <th>2</th>\n",
       "      <td>4c898dbe-5b1d-42e4-8335-6ad7a05c93d8</td>\n",
       "      <td>145</td>\n",
       "      <td>34.977500</td>\n",
       "      <td>6.582500</td>\n",
       "      <td>6.375000</td>\n",
       "      <td>36.250000</td>\n",
       "      <td>41.500000</td>\n",
       "      <td>14257.542500</td>\n",
       "      <td>2845.640000</td>\n",
       "      <td>342.160000</td>\n",
       "      <td>11754.062500</td>\n",
       "    </tr>\n",
       "    <tr>\n",
       "      <th>3</th>\n",
       "      <td>50030d88-89c4-4cb8-9dc5-cf736d7a926f</td>\n",
       "      <td>145</td>\n",
       "      <td>5.685000</td>\n",
       "      <td>2.395000</td>\n",
       "      <td>2.375000</td>\n",
       "      <td>4.750000</td>\n",
       "      <td>6.500000</td>\n",
       "      <td>2346.747500</td>\n",
       "      <td>457.672500</td>\n",
       "      <td>190.960000</td>\n",
       "      <td>1984.555000</td>\n",
       "    </tr>\n",
       "    <tr>\n",
       "      <th>4</th>\n",
       "      <td>ff7e36fd-cc0f-4cd5-8f39-483078da2979</td>\n",
       "      <td>145</td>\n",
       "      <td>1.770000</td>\n",
       "      <td>2.000000</td>\n",
       "      <td>2.000000</td>\n",
       "      <td>4.000000</td>\n",
       "      <td>2.000000</td>\n",
       "      <td>445.000000</td>\n",
       "      <td>89.000000</td>\n",
       "      <td>NaN</td>\n",
       "      <td>356.000000</td>\n",
       "    </tr>\n",
       "    <tr>\n",
       "      <th>5</th>\n",
       "      <td>7534a4f2-6f9c-4149-90c3-7cb8e23a2854</td>\n",
       "      <td>145</td>\n",
       "      <td>40.280000</td>\n",
       "      <td>2.500000</td>\n",
       "      <td>2.500000</td>\n",
       "      <td>12.500000</td>\n",
       "      <td>63.500000</td>\n",
       "      <td>19793.000000</td>\n",
       "      <td>3945.610000</td>\n",
       "      <td>2255.465000</td>\n",
       "      <td>18102.855000</td>\n",
       "    </tr>\n",
       "    <tr>\n",
       "      <th>6</th>\n",
       "      <td>45602567-2f4a-4f5e-aa2f-4e95af675a95</td>\n",
       "      <td>145</td>\n",
       "      <td>16.936667</td>\n",
       "      <td>1.616667</td>\n",
       "      <td>1.666667</td>\n",
       "      <td>6.000000</td>\n",
       "      <td>28.000000</td>\n",
       "      <td>9473.740000</td>\n",
       "      <td>1926.746667</td>\n",
       "      <td>1549.075000</td>\n",
       "      <td>8579.710000</td>\n",
       "    </tr>\n",
       "    <tr>\n",
       "      <th>7</th>\n",
       "      <td>643e76d8-d381-490a-8b59-f8d1788f8ad4</td>\n",
       "      <td>145</td>\n",
       "      <td>30.310000</td>\n",
       "      <td>7.000000</td>\n",
       "      <td>7.000000</td>\n",
       "      <td>42.000000</td>\n",
       "      <td>8.000000</td>\n",
       "      <td>14124.000000</td>\n",
       "      <td>3578.500000</td>\n",
       "      <td>NaN</td>\n",
       "      <td>10545.500000</td>\n",
       "    </tr>\n",
       "    <tr>\n",
       "      <th>8</th>\n",
       "      <td>edcf3f27-ca7b-43f9-825a-f8818a2288ff</td>\n",
       "      <td>145</td>\n",
       "      <td>54.660000</td>\n",
       "      <td>11.570000</td>\n",
       "      <td>13.000000</td>\n",
       "      <td>81.000000</td>\n",
       "      <td>46.000000</td>\n",
       "      <td>16549.000000</td>\n",
       "      <td>3329.560000</td>\n",
       "      <td>58.300000</td>\n",
       "      <td>13277.740000</td>\n",
       "    </tr>\n",
       "    <tr>\n",
       "      <th>9</th>\n",
       "      <td>b7f78f06-d5e8-4ed1-822a-a059f33a2ef9</td>\n",
       "      <td>145</td>\n",
       "      <td>9.050000</td>\n",
       "      <td>4.000000</td>\n",
       "      <td>3.000000</td>\n",
       "      <td>16.000000</td>\n",
       "      <td>11.000000</td>\n",
       "      <td>4739.000000</td>\n",
       "      <td>947.800000</td>\n",
       "      <td>NaN</td>\n",
       "      <td>3791.200000</td>\n",
       "    </tr>\n",
       "    <tr>\n",
       "      <th>10</th>\n",
       "      <td>680d2f26-6f30-48d6-9caf-e8aa929e9f38</td>\n",
       "      <td>145</td>\n",
       "      <td>17.883333</td>\n",
       "      <td>10.610000</td>\n",
       "      <td>10.833333</td>\n",
       "      <td>31.000000</td>\n",
       "      <td>25.000000</td>\n",
       "      <td>7415.240000</td>\n",
       "      <td>1502.846667</td>\n",
       "      <td>588.613333</td>\n",
       "      <td>6501.006667</td>\n",
       "    </tr>\n",
       "    <tr>\n",
       "      <th>11</th>\n",
       "      <td>b157c6de-dd8a-488b-a344-982e82ee61d3</td>\n",
       "      <td>145</td>\n",
       "      <td>52.995000</td>\n",
       "      <td>2.895000</td>\n",
       "      <td>2.875000</td>\n",
       "      <td>14.750000</td>\n",
       "      <td>72.500000</td>\n",
       "      <td>24549.277500</td>\n",
       "      <td>4916.512500</td>\n",
       "      <td>NaN</td>\n",
       "      <td>19632.765000</td>\n",
       "    </tr>\n",
       "    <tr>\n",
       "      <th>12</th>\n",
       "      <td>4175dbd4-7975-4d04-be78-2361b8a114aa</td>\n",
       "      <td>145</td>\n",
       "      <td>5.650000</td>\n",
       "      <td>4.500000</td>\n",
       "      <td>4.500000</td>\n",
       "      <td>9.000000</td>\n",
       "      <td>10.000000</td>\n",
       "      <td>2895.000000</td>\n",
       "      <td>579.000000</td>\n",
       "      <td>NaN</td>\n",
       "      <td>2316.000000</td>\n",
       "    </tr>\n",
       "    <tr>\n",
       "      <th>13</th>\n",
       "      <td>b1534d4a-be9d-42cf-b743-136ac8cc7d0f</td>\n",
       "      <td>145</td>\n",
       "      <td>40.525000</td>\n",
       "      <td>3.517500</td>\n",
       "      <td>3.750000</td>\n",
       "      <td>20.750000</td>\n",
       "      <td>16.750000</td>\n",
       "      <td>12456.417500</td>\n",
       "      <td>2506.105000</td>\n",
       "      <td>67.800000</td>\n",
       "      <td>9967.262500</td>\n",
       "    </tr>\n",
       "    <tr>\n",
       "      <th>14</th>\n",
       "      <td>102655b7-a74c-4e1a-8e60-516b8d6fa7a5</td>\n",
       "      <td>145</td>\n",
       "      <td>16.836667</td>\n",
       "      <td>7.166667</td>\n",
       "      <td>6.500000</td>\n",
       "      <td>41.000000</td>\n",
       "      <td>20.000000</td>\n",
       "      <td>6485.000000</td>\n",
       "      <td>1303.253333</td>\n",
       "      <td>631.755000</td>\n",
       "      <td>5602.916667</td>\n",
       "    </tr>\n",
       "    <tr>\n",
       "      <th>15</th>\n",
       "      <td>4a0ae255-198a-41d0-bb1c-d75aa4097736</td>\n",
       "      <td>145</td>\n",
       "      <td>3.420000</td>\n",
       "      <td>3.330000</td>\n",
       "      <td>4.000000</td>\n",
       "      <td>10.000000</td>\n",
       "      <td>1.000000</td>\n",
       "      <td>139.000000</td>\n",
       "      <td>27.800000</td>\n",
       "      <td>NaN</td>\n",
       "      <td>111.200000</td>\n",
       "    </tr>\n",
       "    <tr>\n",
       "      <th>16</th>\n",
       "      <td>56593f9c-b132-49e5-a18d-92b71a04ac0f</td>\n",
       "      <td>145</td>\n",
       "      <td>93.910000</td>\n",
       "      <td>7.570000</td>\n",
       "      <td>8.000000</td>\n",
       "      <td>53.000000</td>\n",
       "      <td>111.000000</td>\n",
       "      <td>37840.710000</td>\n",
       "      <td>7563.210000</td>\n",
       "      <td>1693.150000</td>\n",
       "      <td>31970.650000</td>\n",
       "    </tr>\n",
       "    <tr>\n",
       "      <th>17</th>\n",
       "      <td>44e70392-93af-4cf6-8f13-9225d9f766c7</td>\n",
       "      <td>145</td>\n",
       "      <td>43.842500</td>\n",
       "      <td>7.615000</td>\n",
       "      <td>7.000000</td>\n",
       "      <td>41.500000</td>\n",
       "      <td>48.750000</td>\n",
       "      <td>16038.385000</td>\n",
       "      <td>3385.165000</td>\n",
       "      <td>1123.432500</td>\n",
       "      <td>13776.652500</td>\n",
       "    </tr>\n",
       "    <tr>\n",
       "      <th>18</th>\n",
       "      <td>85ba0348-a43a-4fe4-a894-cc71d403970e</td>\n",
       "      <td>145</td>\n",
       "      <td>28.570000</td>\n",
       "      <td>2.000000</td>\n",
       "      <td>1.500000</td>\n",
       "      <td>8.000000</td>\n",
       "      <td>40.000000</td>\n",
       "      <td>16177.940000</td>\n",
       "      <td>3213.400000</td>\n",
       "      <td>934.100000</td>\n",
       "      <td>13898.640000</td>\n",
       "    </tr>\n",
       "    <tr>\n",
       "      <th>19</th>\n",
       "      <td>87a0b825-349a-42a4-95b3-12bd4e7151ed</td>\n",
       "      <td>145</td>\n",
       "      <td>19.392500</td>\n",
       "      <td>3.087500</td>\n",
       "      <td>2.875000</td>\n",
       "      <td>13.750000</td>\n",
       "      <td>30.000000</td>\n",
       "      <td>9638.945000</td>\n",
       "      <td>1931.400000</td>\n",
       "      <td>1562.366667</td>\n",
       "      <td>8879.320000</td>\n",
       "    </tr>\n",
       "    <tr>\n",
       "      <th>20</th>\n",
       "      <td>6a9c1d0d-09c7-49d4-84db-256c4ad5a88d</td>\n",
       "      <td>145</td>\n",
       "      <td>5.333333</td>\n",
       "      <td>4.360000</td>\n",
       "      <td>3.833333</td>\n",
       "      <td>16.333333</td>\n",
       "      <td>6.000000</td>\n",
       "      <td>2021.333333</td>\n",
       "      <td>404.333333</td>\n",
       "      <td>690.630000</td>\n",
       "      <td>1847.210000</td>\n",
       "    </tr>\n",
       "    <tr>\n",
       "      <th>21</th>\n",
       "      <td>53ecbae2-0387-4873-9d8a-46fbdb2cf285</td>\n",
       "      <td>145</td>\n",
       "      <td>1.290000</td>\n",
       "      <td>3.000000</td>\n",
       "      <td>3.000000</td>\n",
       "      <td>3.000000</td>\n",
       "      <td>2.000000</td>\n",
       "      <td>219.000000</td>\n",
       "      <td>43.800000</td>\n",
       "      <td>NaN</td>\n",
       "      <td>175.200000</td>\n",
       "    </tr>\n",
       "    <tr>\n",
       "      <th>22</th>\n",
       "      <td>5500ef82-9701-43ab-a5e8-d4cc5d688b9b</td>\n",
       "      <td>145</td>\n",
       "      <td>25.960000</td>\n",
       "      <td>4.700000</td>\n",
       "      <td>4.666667</td>\n",
       "      <td>23.666667</td>\n",
       "      <td>7.333333</td>\n",
       "      <td>4794.030000</td>\n",
       "      <td>975.336667</td>\n",
       "      <td>78.850000</td>\n",
       "      <td>3844.976667</td>\n",
       "    </tr>\n",
       "    <tr>\n",
       "      <th>23</th>\n",
       "      <td>c19d112f-c789-413f-a55e-16e01722852c</td>\n",
       "      <td>145</td>\n",
       "      <td>5.085000</td>\n",
       "      <td>1.625000</td>\n",
       "      <td>1.250000</td>\n",
       "      <td>8.000000</td>\n",
       "      <td>6.000000</td>\n",
       "      <td>1463.500000</td>\n",
       "      <td>292.700000</td>\n",
       "      <td>NaN</td>\n",
       "      <td>1170.800000</td>\n",
       "    </tr>\n",
       "    <tr>\n",
       "      <th>24</th>\n",
       "      <td>43a90564-cba7-412e-a654-2ce77617b9ce</td>\n",
       "      <td>145</td>\n",
       "      <td>14.197500</td>\n",
       "      <td>2.995000</td>\n",
       "      <td>2.750000</td>\n",
       "      <td>14.250000</td>\n",
       "      <td>13.250000</td>\n",
       "      <td>4701.035000</td>\n",
       "      <td>938.250000</td>\n",
       "      <td>NaN</td>\n",
       "      <td>3762.785000</td>\n",
       "    </tr>\n",
       "    <tr>\n",
       "      <th>25</th>\n",
       "      <td>efc38fc3-cb64-47c4-b461-09e1f6ce5486</td>\n",
       "      <td>145</td>\n",
       "      <td>35.330000</td>\n",
       "      <td>3.670000</td>\n",
       "      <td>3.500000</td>\n",
       "      <td>22.000000</td>\n",
       "      <td>43.000000</td>\n",
       "      <td>14873.000000</td>\n",
       "      <td>2940.000000</td>\n",
       "      <td>59.640000</td>\n",
       "      <td>11992.640000</td>\n",
       "    </tr>\n",
       "    <tr>\n",
       "      <th>26</th>\n",
       "      <td>00bbab02-b856-4287-bae9-baa00610f1b0</td>\n",
       "      <td>145</td>\n",
       "      <td>29.542500</td>\n",
       "      <td>2.185000</td>\n",
       "      <td>2.125000</td>\n",
       "      <td>11.000000</td>\n",
       "      <td>40.750000</td>\n",
       "      <td>14107.307500</td>\n",
       "      <td>2813.792500</td>\n",
       "      <td>1144.017500</td>\n",
       "      <td>12437.532500</td>\n",
       "    </tr>\n",
       "    <tr>\n",
       "      <th>27</th>\n",
       "      <td>e450554b-2f2b-46a2-9d92-0a37d315e956</td>\n",
       "      <td>145</td>\n",
       "      <td>27.067500</td>\n",
       "      <td>3.152500</td>\n",
       "      <td>2.750000</td>\n",
       "      <td>15.000000</td>\n",
       "      <td>8.000000</td>\n",
       "      <td>11576.000000</td>\n",
       "      <td>2824.875000</td>\n",
       "      <td>NaN</td>\n",
       "      <td>8751.125000</td>\n",
       "    </tr>\n",
       "    <tr>\n",
       "      <th>28</th>\n",
       "      <td>49919e6f-9439-4f76-9d51-01facd85b84f</td>\n",
       "      <td>145</td>\n",
       "      <td>2.060000</td>\n",
       "      <td>3.000000</td>\n",
       "      <td>3.000000</td>\n",
       "      <td>3.000000</td>\n",
       "      <td>4.000000</td>\n",
       "      <td>1005.000000</td>\n",
       "      <td>201.000000</td>\n",
       "      <td>NaN</td>\n",
       "      <td>804.000000</td>\n",
       "    </tr>\n",
       "    <tr>\n",
       "      <th>29</th>\n",
       "      <td>33c65df2-a63c-4d8f-bcc3-f00b5bf5bb7e</td>\n",
       "      <td>145</td>\n",
       "      <td>27.065000</td>\n",
       "      <td>5.275000</td>\n",
       "      <td>4.625000</td>\n",
       "      <td>19.000000</td>\n",
       "      <td>34.750000</td>\n",
       "      <td>12709.915000</td>\n",
       "      <td>2550.477500</td>\n",
       "      <td>1405.157500</td>\n",
       "      <td>11564.595000</td>\n",
       "    </tr>\n",
       "    <tr>\n",
       "      <th>...</th>\n",
       "      <td>...</td>\n",
       "      <td>...</td>\n",
       "      <td>...</td>\n",
       "      <td>...</td>\n",
       "      <td>...</td>\n",
       "      <td>...</td>\n",
       "      <td>...</td>\n",
       "      <td>...</td>\n",
       "      <td>...</td>\n",
       "      <td>...</td>\n",
       "      <td>...</td>\n",
       "    </tr>\n",
       "    <tr>\n",
       "      <th>27368</th>\n",
       "      <td>0eabc703-6f96-4292-a4ef-928a3ae89e91</td>\n",
       "      <td>145</td>\n",
       "      <td>53.813333</td>\n",
       "      <td>7.943333</td>\n",
       "      <td>8.333333</td>\n",
       "      <td>40.000000</td>\n",
       "      <td>77.333333</td>\n",
       "      <td>25650.826667</td>\n",
       "      <td>5147.230000</td>\n",
       "      <td>2748.815000</td>\n",
       "      <td>22336.140000</td>\n",
       "    </tr>\n",
       "    <tr>\n",
       "      <th>27369</th>\n",
       "      <td>941856fe-c6ba-43b1-b40e-e6fdd4a358be</td>\n",
       "      <td>145</td>\n",
       "      <td>8.816667</td>\n",
       "      <td>3.556667</td>\n",
       "      <td>3.333333</td>\n",
       "      <td>8.000000</td>\n",
       "      <td>9.000000</td>\n",
       "      <td>2826.666667</td>\n",
       "      <td>565.333333</td>\n",
       "      <td>500.000000</td>\n",
       "      <td>2428.000000</td>\n",
       "    </tr>\n",
       "    <tr>\n",
       "      <th>27370</th>\n",
       "      <td>c4e0a430-3bdf-4096-a00c-05754e7abd9c</td>\n",
       "      <td>145</td>\n",
       "      <td>8.920000</td>\n",
       "      <td>4.000000</td>\n",
       "      <td>4.000000</td>\n",
       "      <td>8.000000</td>\n",
       "      <td>17.000000</td>\n",
       "      <td>4710.000000</td>\n",
       "      <td>942.000000</td>\n",
       "      <td>NaN</td>\n",
       "      <td>3768.000000</td>\n",
       "    </tr>\n",
       "    <tr>\n",
       "      <th>27371</th>\n",
       "      <td>772c97f8-0831-4925-88d0-05448487b0e8</td>\n",
       "      <td>145</td>\n",
       "      <td>11.425000</td>\n",
       "      <td>4.300000</td>\n",
       "      <td>4.000000</td>\n",
       "      <td>21.500000</td>\n",
       "      <td>17.500000</td>\n",
       "      <td>10136.830000</td>\n",
       "      <td>2248.370000</td>\n",
       "      <td>549.420000</td>\n",
       "      <td>8437.880000</td>\n",
       "    </tr>\n",
       "    <tr>\n",
       "      <th>27372</th>\n",
       "      <td>227ad9d8-97e9-49cd-a893-8ee889c7bf3b</td>\n",
       "      <td>145</td>\n",
       "      <td>46.830000</td>\n",
       "      <td>4.430000</td>\n",
       "      <td>5.000000</td>\n",
       "      <td>31.000000</td>\n",
       "      <td>58.000000</td>\n",
       "      <td>17912.520000</td>\n",
       "      <td>3557.310000</td>\n",
       "      <td>2227.150000</td>\n",
       "      <td>16582.360000</td>\n",
       "    </tr>\n",
       "    <tr>\n",
       "      <th>27373</th>\n",
       "      <td>beb5afa7-d240-44c2-b3f5-184fbc49e562</td>\n",
       "      <td>145</td>\n",
       "      <td>64.445000</td>\n",
       "      <td>2.895000</td>\n",
       "      <td>2.500000</td>\n",
       "      <td>18.750000</td>\n",
       "      <td>83.500000</td>\n",
       "      <td>27786.697500</td>\n",
       "      <td>5657.665000</td>\n",
       "      <td>1680.435000</td>\n",
       "      <td>23809.467500</td>\n",
       "    </tr>\n",
       "    <tr>\n",
       "      <th>27374</th>\n",
       "      <td>7059e8b9-93da-4adf-9105-fd54e7dd3035</td>\n",
       "      <td>145</td>\n",
       "      <td>7.740000</td>\n",
       "      <td>2.000000</td>\n",
       "      <td>2.000000</td>\n",
       "      <td>10.000000</td>\n",
       "      <td>7.000000</td>\n",
       "      <td>2824.000000</td>\n",
       "      <td>564.800000</td>\n",
       "      <td>NaN</td>\n",
       "      <td>2259.200000</td>\n",
       "    </tr>\n",
       "    <tr>\n",
       "      <th>27375</th>\n",
       "      <td>7bb46eae-c3ca-48b4-9a83-a669955dbc67</td>\n",
       "      <td>145</td>\n",
       "      <td>11.085000</td>\n",
       "      <td>7.250000</td>\n",
       "      <td>7.250000</td>\n",
       "      <td>14.500000</td>\n",
       "      <td>19.000000</td>\n",
       "      <td>5613.000000</td>\n",
       "      <td>1122.600000</td>\n",
       "      <td>NaN</td>\n",
       "      <td>4490.400000</td>\n",
       "    </tr>\n",
       "    <tr>\n",
       "      <th>27376</th>\n",
       "      <td>7fd7a4b2-073b-46b5-bcd1-5b5ba3c8a49b</td>\n",
       "      <td>145</td>\n",
       "      <td>37.735000</td>\n",
       "      <td>3.750000</td>\n",
       "      <td>3.750000</td>\n",
       "      <td>13.500000</td>\n",
       "      <td>36.500000</td>\n",
       "      <td>14097.070000</td>\n",
       "      <td>2807.715000</td>\n",
       "      <td>335.835000</td>\n",
       "      <td>11625.190000</td>\n",
       "    </tr>\n",
       "    <tr>\n",
       "      <th>27377</th>\n",
       "      <td>6468215f-590d-4b0c-abc1-ca843f142496</td>\n",
       "      <td>145</td>\n",
       "      <td>4.890000</td>\n",
       "      <td>3.293333</td>\n",
       "      <td>1.833333</td>\n",
       "      <td>12.666667</td>\n",
       "      <td>3.333333</td>\n",
       "      <td>2116.666667</td>\n",
       "      <td>423.323333</td>\n",
       "      <td>237.505000</td>\n",
       "      <td>1851.680000</td>\n",
       "    </tr>\n",
       "    <tr>\n",
       "      <th>27378</th>\n",
       "      <td>09570dd1-f324-49dc-8fd6-445d648874c4</td>\n",
       "      <td>145</td>\n",
       "      <td>19.820000</td>\n",
       "      <td>4.490000</td>\n",
       "      <td>3.666667</td>\n",
       "      <td>18.333333</td>\n",
       "      <td>23.333333</td>\n",
       "      <td>8972.790000</td>\n",
       "      <td>1801.200000</td>\n",
       "      <td>1202.030000</td>\n",
       "      <td>7972.943333</td>\n",
       "    </tr>\n",
       "    <tr>\n",
       "      <th>27379</th>\n",
       "      <td>a9f3d3ca-8ff9-4981-9a1c-5953b879e616</td>\n",
       "      <td>145</td>\n",
       "      <td>3.036667</td>\n",
       "      <td>1.306667</td>\n",
       "      <td>1.000000</td>\n",
       "      <td>5.000000</td>\n",
       "      <td>4.333333</td>\n",
       "      <td>1124.666667</td>\n",
       "      <td>224.933333</td>\n",
       "      <td>NaN</td>\n",
       "      <td>899.733333</td>\n",
       "    </tr>\n",
       "    <tr>\n",
       "      <th>27380</th>\n",
       "      <td>35ec9c74-db7e-4da2-a99a-88378c3067b5</td>\n",
       "      <td>145</td>\n",
       "      <td>46.645000</td>\n",
       "      <td>9.365000</td>\n",
       "      <td>10.125000</td>\n",
       "      <td>62.000000</td>\n",
       "      <td>60.000000</td>\n",
       "      <td>22613.295000</td>\n",
       "      <td>4433.785000</td>\n",
       "      <td>1237.732500</td>\n",
       "      <td>19417.242500</td>\n",
       "    </tr>\n",
       "    <tr>\n",
       "      <th>27381</th>\n",
       "      <td>204941d6-54ee-41b6-b8f3-f5158842b684</td>\n",
       "      <td>145</td>\n",
       "      <td>15.460000</td>\n",
       "      <td>4.232500</td>\n",
       "      <td>4.000000</td>\n",
       "      <td>25.750000</td>\n",
       "      <td>9.500000</td>\n",
       "      <td>3895.992500</td>\n",
       "      <td>780.585000</td>\n",
       "      <td>237.580000</td>\n",
       "      <td>3174.802500</td>\n",
       "    </tr>\n",
       "    <tr>\n",
       "      <th>27382</th>\n",
       "      <td>a094def0-b22f-4587-8252-a91b8b889a4f</td>\n",
       "      <td>145</td>\n",
       "      <td>0.120000</td>\n",
       "      <td>2.000000</td>\n",
       "      <td>2.000000</td>\n",
       "      <td>2.000000</td>\n",
       "      <td>1.000000</td>\n",
       "      <td>99.000000</td>\n",
       "      <td>19.800000</td>\n",
       "      <td>NaN</td>\n",
       "      <td>79.200000</td>\n",
       "    </tr>\n",
       "    <tr>\n",
       "      <th>27383</th>\n",
       "      <td>e20466e2-a7c3-4083-82a0-94784142d91b</td>\n",
       "      <td>145</td>\n",
       "      <td>22.825000</td>\n",
       "      <td>4.625000</td>\n",
       "      <td>4.750000</td>\n",
       "      <td>18.500000</td>\n",
       "      <td>32.000000</td>\n",
       "      <td>11128.500000</td>\n",
       "      <td>2245.520000</td>\n",
       "      <td>740.250000</td>\n",
       "      <td>9253.105000</td>\n",
       "    </tr>\n",
       "    <tr>\n",
       "      <th>27384</th>\n",
       "      <td>2994d6ea-3bcf-4bab-a0e5-5b34d9ccbcf7</td>\n",
       "      <td>145</td>\n",
       "      <td>9.895000</td>\n",
       "      <td>1.750000</td>\n",
       "      <td>1.750000</td>\n",
       "      <td>6.500000</td>\n",
       "      <td>16.500000</td>\n",
       "      <td>5788.500000</td>\n",
       "      <td>1157.700000</td>\n",
       "      <td>585.475000</td>\n",
       "      <td>5216.275000</td>\n",
       "    </tr>\n",
       "    <tr>\n",
       "      <th>27385</th>\n",
       "      <td>701754ba-a0d8-4cde-852d-d50c643053cd</td>\n",
       "      <td>145</td>\n",
       "      <td>18.630000</td>\n",
       "      <td>6.500000</td>\n",
       "      <td>6.000000</td>\n",
       "      <td>26.000000</td>\n",
       "      <td>19.000000</td>\n",
       "      <td>6972.910000</td>\n",
       "      <td>1473.780000</td>\n",
       "      <td>NaN</td>\n",
       "      <td>5499.130000</td>\n",
       "    </tr>\n",
       "    <tr>\n",
       "      <th>27386</th>\n",
       "      <td>8a4c166b-db74-4373-8142-01cb402c4a6f</td>\n",
       "      <td>145</td>\n",
       "      <td>12.150000</td>\n",
       "      <td>1.500000</td>\n",
       "      <td>1.500000</td>\n",
       "      <td>3.000000</td>\n",
       "      <td>21.000000</td>\n",
       "      <td>6083.000000</td>\n",
       "      <td>1216.600000</td>\n",
       "      <td>712.860000</td>\n",
       "      <td>5579.260000</td>\n",
       "    </tr>\n",
       "    <tr>\n",
       "      <th>27387</th>\n",
       "      <td>4c6a3b5e-fd3a-4363-a8bd-96ac0a9e67b4</td>\n",
       "      <td>145</td>\n",
       "      <td>0.620000</td>\n",
       "      <td>1.000000</td>\n",
       "      <td>1.000000</td>\n",
       "      <td>1.000000</td>\n",
       "      <td>1.000000</td>\n",
       "      <td>138.000000</td>\n",
       "      <td>27.600000</td>\n",
       "      <td>NaN</td>\n",
       "      <td>110.400000</td>\n",
       "    </tr>\n",
       "    <tr>\n",
       "      <th>27388</th>\n",
       "      <td>d7daaed4-d244-4453-b5ba-a70df8dd6c76</td>\n",
       "      <td>145</td>\n",
       "      <td>45.695000</td>\n",
       "      <td>6.352500</td>\n",
       "      <td>5.875000</td>\n",
       "      <td>41.250000</td>\n",
       "      <td>63.250000</td>\n",
       "      <td>20971.800000</td>\n",
       "      <td>4208.492500</td>\n",
       "      <td>1494.100000</td>\n",
       "      <td>18257.407500</td>\n",
       "    </tr>\n",
       "    <tr>\n",
       "      <th>27389</th>\n",
       "      <td>19eadd48-0faa-440c-8e90-d6141d2469bf</td>\n",
       "      <td>145</td>\n",
       "      <td>14.330000</td>\n",
       "      <td>5.900000</td>\n",
       "      <td>5.500000</td>\n",
       "      <td>15.500000</td>\n",
       "      <td>7.000000</td>\n",
       "      <td>7427.500000</td>\n",
       "      <td>1711.500000</td>\n",
       "      <td>NaN</td>\n",
       "      <td>5716.000000</td>\n",
       "    </tr>\n",
       "    <tr>\n",
       "      <th>27390</th>\n",
       "      <td>890cf259-0657-41e2-8593-91644a4bff79</td>\n",
       "      <td>145</td>\n",
       "      <td>1.120000</td>\n",
       "      <td>1.500000</td>\n",
       "      <td>1.500000</td>\n",
       "      <td>1.500000</td>\n",
       "      <td>1.500000</td>\n",
       "      <td>321.500000</td>\n",
       "      <td>64.300000</td>\n",
       "      <td>NaN</td>\n",
       "      <td>257.200000</td>\n",
       "    </tr>\n",
       "    <tr>\n",
       "      <th>27391</th>\n",
       "      <td>180c58bb-24d8-434e-bd8a-243f3b4c91af</td>\n",
       "      <td>145</td>\n",
       "      <td>46.650000</td>\n",
       "      <td>4.830000</td>\n",
       "      <td>5.500000</td>\n",
       "      <td>29.000000</td>\n",
       "      <td>48.000000</td>\n",
       "      <td>15269.220000</td>\n",
       "      <td>3093.400000</td>\n",
       "      <td>418.710000</td>\n",
       "      <td>12594.530000</td>\n",
       "    </tr>\n",
       "    <tr>\n",
       "      <th>27392</th>\n",
       "      <td>a7a1b69d-32df-4fa5-ad13-f22bee20c7ca</td>\n",
       "      <td>145</td>\n",
       "      <td>46.030000</td>\n",
       "      <td>5.660000</td>\n",
       "      <td>5.000000</td>\n",
       "      <td>32.500000</td>\n",
       "      <td>60.000000</td>\n",
       "      <td>21419.360000</td>\n",
       "      <td>4076.145000</td>\n",
       "      <td>1022.815000</td>\n",
       "      <td>18366.030000</td>\n",
       "    </tr>\n",
       "    <tr>\n",
       "      <th>27393</th>\n",
       "      <td>ede66ad2-2c5d-48b4-96da-20ba81984faf</td>\n",
       "      <td>145</td>\n",
       "      <td>55.065000</td>\n",
       "      <td>10.642500</td>\n",
       "      <td>10.500000</td>\n",
       "      <td>74.500000</td>\n",
       "      <td>75.750000</td>\n",
       "      <td>26953.932500</td>\n",
       "      <td>5380.215000</td>\n",
       "      <td>2719.635000</td>\n",
       "      <td>24293.352500</td>\n",
       "    </tr>\n",
       "    <tr>\n",
       "      <th>27394</th>\n",
       "      <td>5b2e07ad-6c4a-4443-8961-bb7c3cb55a30</td>\n",
       "      <td>145</td>\n",
       "      <td>5.940000</td>\n",
       "      <td>4.166667</td>\n",
       "      <td>3.000000</td>\n",
       "      <td>19.666667</td>\n",
       "      <td>7.000000</td>\n",
       "      <td>1610.666667</td>\n",
       "      <td>322.133333</td>\n",
       "      <td>60.600000</td>\n",
       "      <td>1308.733333</td>\n",
       "    </tr>\n",
       "    <tr>\n",
       "      <th>27395</th>\n",
       "      <td>99234ded-1e4e-40d2-bfca-a199b1cff70c</td>\n",
       "      <td>145</td>\n",
       "      <td>15.120000</td>\n",
       "      <td>5.420000</td>\n",
       "      <td>4.750000</td>\n",
       "      <td>24.000000</td>\n",
       "      <td>7.000000</td>\n",
       "      <td>9505.000000</td>\n",
       "      <td>2461.125000</td>\n",
       "      <td>NaN</td>\n",
       "      <td>7043.875000</td>\n",
       "    </tr>\n",
       "    <tr>\n",
       "      <th>27396</th>\n",
       "      <td>0f3ab1a0-a7e1-4f76-ad8c-ed549ecf34af</td>\n",
       "      <td>145</td>\n",
       "      <td>37.310000</td>\n",
       "      <td>2.250000</td>\n",
       "      <td>2.500000</td>\n",
       "      <td>9.000000</td>\n",
       "      <td>47.000000</td>\n",
       "      <td>15783.920000</td>\n",
       "      <td>3176.580000</td>\n",
       "      <td>1156.880000</td>\n",
       "      <td>13764.220000</td>\n",
       "    </tr>\n",
       "    <tr>\n",
       "      <th>27397</th>\n",
       "      <td>cc91680b-e35a-4501-b7d1-ec62dcb95a95</td>\n",
       "      <td>145</td>\n",
       "      <td>51.277500</td>\n",
       "      <td>3.625000</td>\n",
       "      <td>3.875000</td>\n",
       "      <td>24.500000</td>\n",
       "      <td>18.000000</td>\n",
       "      <td>13407.065000</td>\n",
       "      <td>2700.960000</td>\n",
       "      <td>89.100000</td>\n",
       "      <td>10750.655000</td>\n",
       "    </tr>\n",
       "  </tbody>\n",
       "</table>\n",
       "<p>27398 rows × 11 columns</p>\n",
       "</div>"
      ],
      "text/plain": [
       "                                driver_uuid  city_id  supply_hours  \\\n",
       "0      7a8b702c-b1e1-4c60-8501-615f8d1b5f63      145     63.270000   \n",
       "1      0c56d0d1-35bb-41f1-8c25-17244ecbd804      145      9.790000   \n",
       "2      4c898dbe-5b1d-42e4-8335-6ad7a05c93d8      145     34.977500   \n",
       "3      50030d88-89c4-4cb8-9dc5-cf736d7a926f      145      5.685000   \n",
       "4      ff7e36fd-cc0f-4cd5-8f39-483078da2979      145      1.770000   \n",
       "5      7534a4f2-6f9c-4149-90c3-7cb8e23a2854      145     40.280000   \n",
       "6      45602567-2f4a-4f5e-aa2f-4e95af675a95      145     16.936667   \n",
       "7      643e76d8-d381-490a-8b59-f8d1788f8ad4      145     30.310000   \n",
       "8      edcf3f27-ca7b-43f9-825a-f8818a2288ff      145     54.660000   \n",
       "9      b7f78f06-d5e8-4ed1-822a-a059f33a2ef9      145      9.050000   \n",
       "10     680d2f26-6f30-48d6-9caf-e8aa929e9f38      145     17.883333   \n",
       "11     b157c6de-dd8a-488b-a344-982e82ee61d3      145     52.995000   \n",
       "12     4175dbd4-7975-4d04-be78-2361b8a114aa      145      5.650000   \n",
       "13     b1534d4a-be9d-42cf-b743-136ac8cc7d0f      145     40.525000   \n",
       "14     102655b7-a74c-4e1a-8e60-516b8d6fa7a5      145     16.836667   \n",
       "15     4a0ae255-198a-41d0-bb1c-d75aa4097736      145      3.420000   \n",
       "16     56593f9c-b132-49e5-a18d-92b71a04ac0f      145     93.910000   \n",
       "17     44e70392-93af-4cf6-8f13-9225d9f766c7      145     43.842500   \n",
       "18     85ba0348-a43a-4fe4-a894-cc71d403970e      145     28.570000   \n",
       "19     87a0b825-349a-42a4-95b3-12bd4e7151ed      145     19.392500   \n",
       "20     6a9c1d0d-09c7-49d4-84db-256c4ad5a88d      145      5.333333   \n",
       "21     53ecbae2-0387-4873-9d8a-46fbdb2cf285      145      1.290000   \n",
       "22     5500ef82-9701-43ab-a5e8-d4cc5d688b9b      145     25.960000   \n",
       "23     c19d112f-c789-413f-a55e-16e01722852c      145      5.085000   \n",
       "24     43a90564-cba7-412e-a654-2ce77617b9ce      145     14.197500   \n",
       "25     efc38fc3-cb64-47c4-b461-09e1f6ce5486      145     35.330000   \n",
       "26     00bbab02-b856-4287-bae9-baa00610f1b0      145     29.542500   \n",
       "27     e450554b-2f2b-46a2-9d92-0a37d315e956      145     27.067500   \n",
       "28     49919e6f-9439-4f76-9d51-01facd85b84f      145      2.060000   \n",
       "29     33c65df2-a63c-4d8f-bcc3-f00b5bf5bb7e      145     27.065000   \n",
       "...                                     ...      ...           ...   \n",
       "27368  0eabc703-6f96-4292-a4ef-928a3ae89e91      145     53.813333   \n",
       "27369  941856fe-c6ba-43b1-b40e-e6fdd4a358be      145      8.816667   \n",
       "27370  c4e0a430-3bdf-4096-a00c-05754e7abd9c      145      8.920000   \n",
       "27371  772c97f8-0831-4925-88d0-05448487b0e8      145     11.425000   \n",
       "27372  227ad9d8-97e9-49cd-a893-8ee889c7bf3b      145     46.830000   \n",
       "27373  beb5afa7-d240-44c2-b3f5-184fbc49e562      145     64.445000   \n",
       "27374  7059e8b9-93da-4adf-9105-fd54e7dd3035      145      7.740000   \n",
       "27375  7bb46eae-c3ca-48b4-9a83-a669955dbc67      145     11.085000   \n",
       "27376  7fd7a4b2-073b-46b5-bcd1-5b5ba3c8a49b      145     37.735000   \n",
       "27377  6468215f-590d-4b0c-abc1-ca843f142496      145      4.890000   \n",
       "27378  09570dd1-f324-49dc-8fd6-445d648874c4      145     19.820000   \n",
       "27379  a9f3d3ca-8ff9-4981-9a1c-5953b879e616      145      3.036667   \n",
       "27380  35ec9c74-db7e-4da2-a99a-88378c3067b5      145     46.645000   \n",
       "27381  204941d6-54ee-41b6-b8f3-f5158842b684      145     15.460000   \n",
       "27382  a094def0-b22f-4587-8252-a91b8b889a4f      145      0.120000   \n",
       "27383  e20466e2-a7c3-4083-82a0-94784142d91b      145     22.825000   \n",
       "27384  2994d6ea-3bcf-4bab-a0e5-5b34d9ccbcf7      145      9.895000   \n",
       "27385  701754ba-a0d8-4cde-852d-d50c643053cd      145     18.630000   \n",
       "27386  8a4c166b-db74-4373-8142-01cb402c4a6f      145     12.150000   \n",
       "27387  4c6a3b5e-fd3a-4363-a8bd-96ac0a9e67b4      145      0.620000   \n",
       "27388  d7daaed4-d244-4453-b5ba-a70df8dd6c76      145     45.695000   \n",
       "27389  19eadd48-0faa-440c-8e90-d6141d2469bf      145     14.330000   \n",
       "27390  890cf259-0657-41e2-8593-91644a4bff79      145      1.120000   \n",
       "27391  180c58bb-24d8-434e-bd8a-243f3b4c91af      145     46.650000   \n",
       "27392  a7a1b69d-32df-4fa5-ad13-f22bee20c7ca      145     46.030000   \n",
       "27393  ede66ad2-2c5d-48b4-96da-20ba81984faf      145     55.065000   \n",
       "27394  5b2e07ad-6c4a-4443-8961-bb7c3cb55a30      145      5.940000   \n",
       "27395  99234ded-1e4e-40d2-bfca-a199b1cff70c      145     15.120000   \n",
       "27396  0f3ab1a0-a7e1-4f76-ad8c-ed549ecf34af      145     37.310000   \n",
       "27397  cc91680b-e35a-4501-b7d1-ec62dcb95a95      145     51.277500   \n",
       "\n",
       "       avg_daily_shifts  median_daily_shifts  weekly_shifts       trips  \\\n",
       "0              4.430000             6.000000      31.000000   72.000000   \n",
       "1              2.500000             2.500000       5.000000   17.000000   \n",
       "2              6.582500             6.375000      36.250000   41.500000   \n",
       "3              2.395000             2.375000       4.750000    6.500000   \n",
       "4              2.000000             2.000000       4.000000    2.000000   \n",
       "5              2.500000             2.500000      12.500000   63.500000   \n",
       "6              1.616667             1.666667       6.000000   28.000000   \n",
       "7              7.000000             7.000000      42.000000    8.000000   \n",
       "8             11.570000            13.000000      81.000000   46.000000   \n",
       "9              4.000000             3.000000      16.000000   11.000000   \n",
       "10            10.610000            10.833333      31.000000   25.000000   \n",
       "11             2.895000             2.875000      14.750000   72.500000   \n",
       "12             4.500000             4.500000       9.000000   10.000000   \n",
       "13             3.517500             3.750000      20.750000   16.750000   \n",
       "14             7.166667             6.500000      41.000000   20.000000   \n",
       "15             3.330000             4.000000      10.000000    1.000000   \n",
       "16             7.570000             8.000000      53.000000  111.000000   \n",
       "17             7.615000             7.000000      41.500000   48.750000   \n",
       "18             2.000000             1.500000       8.000000   40.000000   \n",
       "19             3.087500             2.875000      13.750000   30.000000   \n",
       "20             4.360000             3.833333      16.333333    6.000000   \n",
       "21             3.000000             3.000000       3.000000    2.000000   \n",
       "22             4.700000             4.666667      23.666667    7.333333   \n",
       "23             1.625000             1.250000       8.000000    6.000000   \n",
       "24             2.995000             2.750000      14.250000   13.250000   \n",
       "25             3.670000             3.500000      22.000000   43.000000   \n",
       "26             2.185000             2.125000      11.000000   40.750000   \n",
       "27             3.152500             2.750000      15.000000    8.000000   \n",
       "28             3.000000             3.000000       3.000000    4.000000   \n",
       "29             5.275000             4.625000      19.000000   34.750000   \n",
       "...                 ...                  ...            ...         ...   \n",
       "27368          7.943333             8.333333      40.000000   77.333333   \n",
       "27369          3.556667             3.333333       8.000000    9.000000   \n",
       "27370          4.000000             4.000000       8.000000   17.000000   \n",
       "27371          4.300000             4.000000      21.500000   17.500000   \n",
       "27372          4.430000             5.000000      31.000000   58.000000   \n",
       "27373          2.895000             2.500000      18.750000   83.500000   \n",
       "27374          2.000000             2.000000      10.000000    7.000000   \n",
       "27375          7.250000             7.250000      14.500000   19.000000   \n",
       "27376          3.750000             3.750000      13.500000   36.500000   \n",
       "27377          3.293333             1.833333      12.666667    3.333333   \n",
       "27378          4.490000             3.666667      18.333333   23.333333   \n",
       "27379          1.306667             1.000000       5.000000    4.333333   \n",
       "27380          9.365000            10.125000      62.000000   60.000000   \n",
       "27381          4.232500             4.000000      25.750000    9.500000   \n",
       "27382          2.000000             2.000000       2.000000    1.000000   \n",
       "27383          4.625000             4.750000      18.500000   32.000000   \n",
       "27384          1.750000             1.750000       6.500000   16.500000   \n",
       "27385          6.500000             6.000000      26.000000   19.000000   \n",
       "27386          1.500000             1.500000       3.000000   21.000000   \n",
       "27387          1.000000             1.000000       1.000000    1.000000   \n",
       "27388          6.352500             5.875000      41.250000   63.250000   \n",
       "27389          5.900000             5.500000      15.500000    7.000000   \n",
       "27390          1.500000             1.500000       1.500000    1.500000   \n",
       "27391          4.830000             5.500000      29.000000   48.000000   \n",
       "27392          5.660000             5.000000      32.500000   60.000000   \n",
       "27393         10.642500            10.500000      74.500000   75.750000   \n",
       "27394          4.166667             3.000000      19.666667    7.000000   \n",
       "27395          5.420000             4.750000      24.000000    7.000000   \n",
       "27396          2.250000             2.500000       9.000000   47.000000   \n",
       "27397          3.625000             3.875000      24.500000   18.000000   \n",
       "\n",
       "       gross_bookings   commission   incentives      earnings  \n",
       "0        29005.620000  5860.520000  2252.070000  25397.170000  \n",
       "1         4915.560000   871.000000          NaN   4044.560000  \n",
       "2        14257.542500  2845.640000   342.160000  11754.062500  \n",
       "3         2346.747500   457.672500   190.960000   1984.555000  \n",
       "4          445.000000    89.000000          NaN    356.000000  \n",
       "5        19793.000000  3945.610000  2255.465000  18102.855000  \n",
       "6         9473.740000  1926.746667  1549.075000   8579.710000  \n",
       "7        14124.000000  3578.500000          NaN  10545.500000  \n",
       "8        16549.000000  3329.560000    58.300000  13277.740000  \n",
       "9         4739.000000   947.800000          NaN   3791.200000  \n",
       "10        7415.240000  1502.846667   588.613333   6501.006667  \n",
       "11       24549.277500  4916.512500          NaN  19632.765000  \n",
       "12        2895.000000   579.000000          NaN   2316.000000  \n",
       "13       12456.417500  2506.105000    67.800000   9967.262500  \n",
       "14        6485.000000  1303.253333   631.755000   5602.916667  \n",
       "15         139.000000    27.800000          NaN    111.200000  \n",
       "16       37840.710000  7563.210000  1693.150000  31970.650000  \n",
       "17       16038.385000  3385.165000  1123.432500  13776.652500  \n",
       "18       16177.940000  3213.400000   934.100000  13898.640000  \n",
       "19        9638.945000  1931.400000  1562.366667   8879.320000  \n",
       "20        2021.333333   404.333333   690.630000   1847.210000  \n",
       "21         219.000000    43.800000          NaN    175.200000  \n",
       "22        4794.030000   975.336667    78.850000   3844.976667  \n",
       "23        1463.500000   292.700000          NaN   1170.800000  \n",
       "24        4701.035000   938.250000          NaN   3762.785000  \n",
       "25       14873.000000  2940.000000    59.640000  11992.640000  \n",
       "26       14107.307500  2813.792500  1144.017500  12437.532500  \n",
       "27       11576.000000  2824.875000          NaN   8751.125000  \n",
       "28        1005.000000   201.000000          NaN    804.000000  \n",
       "29       12709.915000  2550.477500  1405.157500  11564.595000  \n",
       "...               ...          ...          ...           ...  \n",
       "27368    25650.826667  5147.230000  2748.815000  22336.140000  \n",
       "27369     2826.666667   565.333333   500.000000   2428.000000  \n",
       "27370     4710.000000   942.000000          NaN   3768.000000  \n",
       "27371    10136.830000  2248.370000   549.420000   8437.880000  \n",
       "27372    17912.520000  3557.310000  2227.150000  16582.360000  \n",
       "27373    27786.697500  5657.665000  1680.435000  23809.467500  \n",
       "27374     2824.000000   564.800000          NaN   2259.200000  \n",
       "27375     5613.000000  1122.600000          NaN   4490.400000  \n",
       "27376    14097.070000  2807.715000   335.835000  11625.190000  \n",
       "27377     2116.666667   423.323333   237.505000   1851.680000  \n",
       "27378     8972.790000  1801.200000  1202.030000   7972.943333  \n",
       "27379     1124.666667   224.933333          NaN    899.733333  \n",
       "27380    22613.295000  4433.785000  1237.732500  19417.242500  \n",
       "27381     3895.992500   780.585000   237.580000   3174.802500  \n",
       "27382       99.000000    19.800000          NaN     79.200000  \n",
       "27383    11128.500000  2245.520000   740.250000   9253.105000  \n",
       "27384     5788.500000  1157.700000   585.475000   5216.275000  \n",
       "27385     6972.910000  1473.780000          NaN   5499.130000  \n",
       "27386     6083.000000  1216.600000   712.860000   5579.260000  \n",
       "27387      138.000000    27.600000          NaN    110.400000  \n",
       "27388    20971.800000  4208.492500  1494.100000  18257.407500  \n",
       "27389     7427.500000  1711.500000          NaN   5716.000000  \n",
       "27390      321.500000    64.300000          NaN    257.200000  \n",
       "27391    15269.220000  3093.400000   418.710000  12594.530000  \n",
       "27392    21419.360000  4076.145000  1022.815000  18366.030000  \n",
       "27393    26953.932500  5380.215000  2719.635000  24293.352500  \n",
       "27394     1610.666667   322.133333    60.600000   1308.733333  \n",
       "27395     9505.000000  2461.125000          NaN   7043.875000  \n",
       "27396    15783.920000  3176.580000  1156.880000  13764.220000  \n",
       "27397    13407.065000  2700.960000    89.100000  10750.655000  \n",
       "\n",
       "[27398 rows x 11 columns]"
      ]
     },
     "execution_count": 74,
     "metadata": {},
     "output_type": "execute_result"
    }
   ],
   "source": [
    "frame"
   ]
  },
  {
   "cell_type": "code",
   "execution_count": 97,
   "metadata": {
    "collapsed": false
   },
   "outputs": [
    {
     "ename": "AttributeError",
     "evalue": "'DataFrame' object has no attribute 'addColumn'",
     "output_type": "error",
     "traceback": [
      "\u001b[0;31m---------------------------------------------------------------------------\u001b[0m",
      "\u001b[0;31mAttributeError\u001b[0m                            Traceback (most recent call last)",
      "\u001b[0;32m<ipython-input-97-911a0a574340>\u001b[0m in \u001b[0;36m<module>\u001b[0;34m()\u001b[0m\n\u001b[1;32m      1\u001b[0m \u001b[0mframe2\u001b[0m \u001b[0;34m=\u001b[0m \u001b[0mpd\u001b[0m\u001b[0;34m.\u001b[0m\u001b[0mDataFrame\u001b[0m\u001b[0;34m(\u001b[0m\u001b[0;34m{\u001b[0m\u001b[0;34m}\u001b[0m\u001b[0;34m)\u001b[0m\u001b[0;34m\u001b[0m\u001b[0m\n\u001b[1;32m      2\u001b[0m \u001b[0;31m#frame2[\"col1\"] = True False False\u001b[0m\u001b[0;34m\u001b[0m\u001b[0;34m\u001b[0m\u001b[0m\n\u001b[0;32m----> 3\u001b[0;31m \u001b[0mframe2\u001b[0m\u001b[0;34m.\u001b[0m\u001b[0maddColumn\u001b[0m\u001b[0;34m(\u001b[0m\u001b[0;34m'col2'\u001b[0m\u001b[0;34m,\u001b[0m\u001b[0;34m[\u001b[0m\u001b[0mTrue\u001b[0m\u001b[0;34m,\u001b[0m \u001b[0mFalse\u001b[0m\u001b[0;34m,\u001b[0m \u001b[0mTrue\u001b[0m\u001b[0;34m]\u001b[0m\u001b[0;34m)\u001b[0m\u001b[0;34m\u001b[0m\u001b[0m\n\u001b[0m",
      "\u001b[0;32m/Users/nazirdashtiev/anaconda/lib/python2.7/site-packages/pandas/core/generic.pyc\u001b[0m in \u001b[0;36m__getattr__\u001b[0;34m(self, name)\u001b[0m\n\u001b[1;32m   2670\u001b[0m             \u001b[0;32mif\u001b[0m \u001b[0mname\u001b[0m \u001b[0;32min\u001b[0m \u001b[0mself\u001b[0m\u001b[0;34m.\u001b[0m\u001b[0m_info_axis\u001b[0m\u001b[0;34m:\u001b[0m\u001b[0;34m\u001b[0m\u001b[0m\n\u001b[1;32m   2671\u001b[0m                 \u001b[0;32mreturn\u001b[0m \u001b[0mself\u001b[0m\u001b[0;34m[\u001b[0m\u001b[0mname\u001b[0m\u001b[0;34m]\u001b[0m\u001b[0;34m\u001b[0m\u001b[0m\n\u001b[0;32m-> 2672\u001b[0;31m             \u001b[0;32mreturn\u001b[0m \u001b[0mobject\u001b[0m\u001b[0;34m.\u001b[0m\u001b[0m__getattribute__\u001b[0m\u001b[0;34m(\u001b[0m\u001b[0mself\u001b[0m\u001b[0;34m,\u001b[0m \u001b[0mname\u001b[0m\u001b[0;34m)\u001b[0m\u001b[0;34m\u001b[0m\u001b[0m\n\u001b[0m\u001b[1;32m   2673\u001b[0m \u001b[0;34m\u001b[0m\u001b[0m\n\u001b[1;32m   2674\u001b[0m     \u001b[0;32mdef\u001b[0m \u001b[0m__setattr__\u001b[0m\u001b[0;34m(\u001b[0m\u001b[0mself\u001b[0m\u001b[0;34m,\u001b[0m \u001b[0mname\u001b[0m\u001b[0;34m,\u001b[0m \u001b[0mvalue\u001b[0m\u001b[0;34m)\u001b[0m\u001b[0;34m:\u001b[0m\u001b[0;34m\u001b[0m\u001b[0m\n",
      "\u001b[0;31mAttributeError\u001b[0m: 'DataFrame' object has no attribute 'addColumn'"
     ]
    }
   ],
   "source": [
    "frame2 = pd.DataFrame({})\n",
    "#frame2[\"col1\"] = True, False, False\n",
    "frame2.addColumn('col2',[True, False, True])"
   ]
  },
  {
   "cell_type": "code",
   "execution_count": 94,
   "metadata": {
    "collapsed": false
   },
   "outputs": [
    {
     "data": {
      "text/html": [
       "<div>\n",
       "<table border=\"1\" class=\"dataframe\">\n",
       "  <thead>\n",
       "    <tr style=\"text-align: right;\">\n",
       "      <th></th>\n",
       "      <th>col1</th>\n",
       "    </tr>\n",
       "  </thead>\n",
       "  <tbody>\n",
       "    <tr>\n",
       "      <th>0</th>\n",
       "      <td>True</td>\n",
       "    </tr>\n",
       "    <tr>\n",
       "      <th>1</th>\n",
       "      <td>False</td>\n",
       "    </tr>\n",
       "    <tr>\n",
       "      <th>2</th>\n",
       "      <td>False</td>\n",
       "    </tr>\n",
       "  </tbody>\n",
       "</table>\n",
       "</div>"
      ],
      "text/plain": [
       "    col1\n",
       "0   True\n",
       "1  False\n",
       "2  False"
      ]
     },
     "execution_count": 94,
     "metadata": {},
     "output_type": "execute_result"
    }
   ],
   "source": [
    "frame2"
   ]
  },
  {
   "cell_type": "code",
   "execution_count": 105,
   "metadata": {
    "collapsed": false
   },
   "outputs": [],
   "source": [
    "import numpy as np"
   ]
  },
  {
   "cell_type": "code",
   "execution_count": 108,
   "metadata": {
    "collapsed": false
   },
   "outputs": [
    {
     "data": {
      "text/plain": [
       "array([ 1, 41, 81])"
      ]
     },
     "execution_count": 108,
     "metadata": {},
     "output_type": "execute_result"
    }
   ],
   "source": [
    "np.arange(1, 101, 40)"
   ]
  },
  {
   "cell_type": "code",
   "execution_count": 110,
   "metadata": {
    "collapsed": false
   },
   "outputs": [
    {
     "data": {
      "text/plain": [
       "array([[ 0.01347222,  0.40285088,  0.65847357,  0.66276356,  0.63541423],\n",
       "       [ 0.66931391,  0.32570128,  0.45701456,  0.60843957,  0.48034701],\n",
       "       [ 0.48485117,  0.93700966,  0.92097847,  0.85773154,  0.66979611],\n",
       "       [ 0.25039322,  0.24290162,  0.14053903,  0.74057804,  0.72863793]])"
      ]
     },
     "execution_count": 110,
     "metadata": {},
     "output_type": "execute_result"
    }
   ],
   "source": [
    "np.random.rand(4, 5) "
   ]
  },
  {
   "cell_type": "code",
   "execution_count": 111,
   "metadata": {
    "collapsed": false
   },
   "outputs": [
    {
     "name": "stdout",
     "output_type": "stream",
     "text": [
      "Object `optimize.minimize` not found.\n"
     ]
    }
   ],
   "source": [
    "?optimize.minimize"
   ]
  },
  {
   "cell_type": "code",
   "execution_count": 113,
   "metadata": {
    "collapsed": false
   },
   "outputs": [],
   "source": [
    "x = np.array([[1, 2, 3], [4, 5, 6]])"
   ]
  },
  {
   "cell_type": "code",
   "execution_count": 114,
   "metadata": {
    "collapsed": false
   },
   "outputs": [
    {
     "data": {
      "text/plain": [
       "array([[1, 2, 3],\n",
       "       [4, 5, 6]])"
      ]
     },
     "execution_count": 114,
     "metadata": {},
     "output_type": "execute_result"
    }
   ],
   "source": [
    "x"
   ]
  },
  {
   "cell_type": "code",
   "execution_count": 127,
   "metadata": {
    "collapsed": false
   },
   "outputs": [
    {
     "data": {
      "text/plain": [
       "array([[1, 2, 3],\n",
       "       [4, 5, 6]])"
      ]
     },
     "execution_count": 127,
     "metadata": {},
     "output_type": "execute_result"
    }
   ],
   "source": [
    "x[0:2]"
   ]
  },
  {
   "cell_type": "code",
   "execution_count": 133,
   "metadata": {
    "collapsed": false
   },
   "outputs": [
    {
     "name": "stdout",
     "output_type": "stream",
     "text": [
      "<class 'pandas.core.frame.DataFrame'>\n",
      "RangeIndex: 27398 entries, 0 to 27397\n",
      "Data columns (total 11 columns):\n",
      "driver_uuid            27398 non-null object\n",
      "city_id                27398 non-null int64\n",
      "supply_hours           27397 non-null float64\n",
      "avg_daily_shifts       27397 non-null float64\n",
      "median_daily_shifts    27397 non-null float64\n",
      "weekly_shifts          27397 non-null float64\n",
      "trips                  27398 non-null float64\n",
      "gross_bookings         27398 non-null float64\n",
      "commission             27398 non-null float64\n",
      "incentives             20078 non-null float64\n",
      "earnings               27398 non-null float64\n",
      "dtypes: float64(9), int64(1), object(1)\n",
      "memory usage: 2.3+ MB\n"
     ]
    }
   ],
   "source": [
    "frame.info()"
   ]
  },
  {
   "cell_type": "code",
   "execution_count": 140,
   "metadata": {
    "collapsed": false
   },
   "outputs": [
    {
     "name": "stdout",
     "output_type": "stream",
     "text": [
      "['1' 'True' 'smth']\n"
     ]
    }
   ],
   "source": [
    "f = np.array([1, True, 'smth'])\n",
    "print f"
   ]
  },
  {
   "cell_type": "code",
   "execution_count": null,
   "metadata": {
    "collapsed": true
   },
   "outputs": [],
   "source": []
  }
 ],
 "metadata": {
  "anaconda-cloud": {},
  "kernelspec": {
   "display_name": "Python [default]",
   "language": "python",
   "name": "python2"
  },
  "language_info": {
   "codemirror_mode": {
    "name": "ipython",
    "version": 2
   },
   "file_extension": ".py",
   "mimetype": "text/x-python",
   "name": "python",
   "nbconvert_exporter": "python",
   "pygments_lexer": "ipython2",
   "version": "2.7.12"
  }
 },
 "nbformat": 4,
 "nbformat_minor": 1
}
